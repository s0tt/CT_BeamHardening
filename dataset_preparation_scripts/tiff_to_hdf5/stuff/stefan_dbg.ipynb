{
 "cells": [
  {
   "cell_type": "code",
   "execution_count": 3,
   "metadata": {},
   "outputs": [
    {
     "data": {
      "text/plain": "array([   0,  588, 1177, 1766, 2355, 2943, 3532, 4121, 4710, 5299])"
     },
     "execution_count": 3,
     "metadata": {},
     "output_type": "execute_result"
    }
   ],
   "source": [
    "import numpy as np\n",
    "import h5py\n",
    "\n",
    "y_slice_idx = np.linspace(0, 5299, 10, dtype=int)\n",
    "y_slice_idx"
   ]
  },
  {
   "cell_type": "code",
   "execution_count": 5,
   "metadata": {},
   "outputs": [],
   "source": [
    "path_in = \"/net/pasnas01/pool1/enpro-2021-voxie/reconstructed_volumes/zuendkerze/mono/volume.hdf5\""
   ]
  },
  {
   "cell_type": "code",
   "execution_count": 4,
   "metadata": {},
   "outputs": [],
   "source": [
    "DATATYPE_USED = \"float32\"\n",
    "def trans_hdf5_incremental(path_in: str):\n",
    "    with h5py.File(path_in, \"r\") as f_in:\n",
    "        name_old = path_in.split(\".hdf5\")[0]\n",
    "        name_new = name_old+\"_test_cut.hdf5\"\n",
    "        with h5py.File(name_new, \"w\") as f_out:\n",
    "            new_volume_dataset = None\n",
    "\n",
    "            # takeover all other existing groups beside \"Volume\"\n",
    "            for key in f_in.keys():\n",
    "                if key != \"Volume\":\n",
    "                    # Get parent group name for copy\n",
    "                    group_path = f_in[key].parent.name\n",
    "                    # Check existence of group, else create group+parent\n",
    "                    group_id = f_out.require_group(group_path)\n",
    "                    f_in.copy(key, group_id, group_path+key)\n",
    "            \n",
    "            vol_hdf5 = f_in[\"Volume\"]\n",
    "            # Volume iteration loop\n",
    "            grey_value_sum = 0\n",
    "            for y_slice in y_slice_idx:\n",
    "                vol_data = vol_hdf5[:, y_slice, :]\n",
    "                grey_value_sum += vol_data.flatten().sum()\n",
    "\n",
    "                vol_data_3d = np.expand_dims(vol_data, axis=0)\n",
    "                if new_volume_dataset is None:\n",
    "                    new_volume_dataset = f_out.create_dataset(\"Volume\",\n",
    "                        data=vol_data_3d, dtype=DATATYPE_USED, chunks=True,\n",
    "                        maxshape=(None, None, None))\n",
    "                else:\n",
    "                    new_volume_dataset.resize(new_volume_dataset.shape[0] +\n",
    "                        vol_data_3d.shape[0], axis=0)\n",
    "                    new_volume_dataset[y_slice, :, :] = vol_data_3d\n",
    "            \n",
    "            new_volume_dataset.attrs['MATLAB_class'] = 'double'\n",
    "            new_volume_dataset.attrs['Mean_grey_value'] = grey_value_sum/vol_hdf5.size"
   ]
  },
  {
   "cell_type": "code",
   "execution_count": null,
   "metadata": {},
   "outputs": [],
   "source": []
  }
 ],
 "metadata": {
  "kernelspec": {
   "display_name": "Python 3.8.5 64-bit",
   "name": "python385jvsc74a57bd031f2aee4e71d21fbe5cf8b01ff0e069b9275f58929596ceb00d14d90e3e16cd6"
  },
  "language_info": {
   "codemirror_mode": {
    "name": "ipython",
    "version": 3
   },
   "file_extension": ".py",
   "mimetype": "text/x-python",
   "name": "python",
   "nbconvert_exporter": "python",
   "pygments_lexer": "ipython3",
   "version": "3.8.5"
  },
  "metadata": {
   "interpreter": {
    "hash": "31f2aee4e71d21fbe5cf8b01ff0e069b9275f58929596ceb00d14d90e3e16cd6"
   }
  },
  "orig_nbformat": 2
 },
 "nbformat": 4,
 "nbformat_minor": 2
}